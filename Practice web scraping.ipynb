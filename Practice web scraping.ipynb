{
 "cells": [
  {
   "cell_type": "code",
   "execution_count": 1,
   "id": "fe36edaa",
   "metadata": {},
   "outputs": [],
   "source": [
    "from bs4 import BeautifulSoup\n",
    "import requests"
   ]
  },
  {
   "cell_type": "markdown",
   "id": "41db4ada",
   "metadata": {},
   "source": [
    "# Create a list of links of a wikipedia page"
   ]
  },
  {
   "cell_type": "code",
   "execution_count": 14,
   "id": "c30496bc",
   "metadata": {},
   "outputs": [],
   "source": [
    "url = \"https://en.wikipedia.org/wiki/Pythonidae\"\n",
    "\n",
    "# Make an HTTP GET request to the website\n",
    "response = requests.get(url)\n",
    "\n",
    "# Parse the HTML of the website\n",
    "soup = BeautifulSoup(response.text, 'html.parser')"
   ]
  },
  {
   "cell_type": "code",
   "execution_count": 15,
   "id": "9f1ec656",
   "metadata": {},
   "outputs": [
    {
     "data": {
      "text/plain": [
       "'/wiki/Pythonides'"
      ]
     },
     "execution_count": 15,
     "metadata": {},
     "output_type": "execute_result"
    }
   ],
   "source": [
    "soup.select(\"#mw-content-text > div.mw-parser-output a\")[0][\"href\"]"
   ]
  },
  {
   "cell_type": "code",
   "execution_count": 16,
   "id": "bca562b0",
   "metadata": {},
   "outputs": [],
   "source": [
    "# links = []\n",
    "# for pr in soup.select(\"#mw-content-text > div.mw-parser-output a\"):\n",
    "#     link = pr.get(\"href\")\n",
    "#     print(link)\n",
    "#     if link is not None:\n",
    "#         if ((\"/wiki\" in link) & \n",
    "#             (\"election\" not in link) & \n",
    "#             (\"residen\" not in link)):\n",
    "#             links.append(pr[\"href\"])"
   ]
  },
  {
   "cell_type": "markdown",
   "id": "21548a6d",
   "metadata": {},
   "source": [
    "# Create a Python list with the top ten FBI's Most Wanted names"
   ]
  },
  {
   "cell_type": "code",
   "execution_count": 32,
   "id": "c863fa95",
   "metadata": {},
   "outputs": [],
   "source": [
    "url = 'https://www.fbi.gov/wanted/topten'\n",
    "\n",
    "# Make an HTTP GET request to the website\n",
    "response = requests.get(url)\n",
    "\n",
    "# Parse the HTML of the website\n",
    "soup = BeautifulSoup(response.text, 'html.parser')"
   ]
  },
  {
   "cell_type": "code",
   "execution_count": 40,
   "id": "c5e36f6a",
   "metadata": {},
   "outputs": [
    {
     "data": {
      "text/plain": [
       "'YULAN ADONAY ARCHAGA CARIAS'"
      ]
     },
     "execution_count": 40,
     "metadata": {},
     "output_type": "execute_result"
    }
   ],
   "source": [
    "soup.select(\"h3 > a\")[0].get_text()"
   ]
  },
  {
   "cell_type": "code",
   "execution_count": 41,
   "id": "31de933f",
   "metadata": {},
   "outputs": [
    {
     "name": "stdout",
     "output_type": "stream",
     "text": [
      "['YULAN ADONAY ARCHAGA CARIAS', 'BHADRESHKUMAR CHETANBHAI PATEL', 'ALEJANDRO ROSALES CASTILLO', 'RUJA IGNATOVA', 'ARNOLDO JIMENEZ', 'OMAR ALEXANDER CARDENAS', 'ALEXIS FLORES', 'JOSE RODOLFO VILLARREAL-HERNANDEZ', 'MICHAEL JAMES PRATT', 'RAFAEL CARO-QUINTERO']\n"
     ]
    }
   ],
   "source": [
    "wanted = []\n",
    "\n",
    "num_iter = len(soup.select(\"h3 > a\"))\n",
    "\n",
    "wanteds = soup.select(\"h3 > a\")\n",
    "\n",
    "# iterate through the result set and retrive all the data\n",
    "for i in range(num_iter):\n",
    "    wanted.append(wanteds[i].get_text())\n",
    "print(wanted)"
   ]
  },
  {
   "cell_type": "code",
   "execution_count": null,
   "id": "e4656ab7",
   "metadata": {},
   "outputs": [],
   "source": []
  },
  {
   "cell_type": "code",
   "execution_count": null,
   "id": "3943ef3d",
   "metadata": {},
   "outputs": [],
   "source": []
  }
 ],
 "metadata": {
  "kernelspec": {
   "display_name": "Python 3 (ipykernel)",
   "language": "python",
   "name": "python3"
  },
  "language_info": {
   "codemirror_mode": {
    "name": "ipython",
    "version": 3
   },
   "file_extension": ".py",
   "mimetype": "text/x-python",
   "name": "python",
   "nbconvert_exporter": "python",
   "pygments_lexer": "ipython3",
   "version": "3.9.12"
  }
 },
 "nbformat": 4,
 "nbformat_minor": 5
}
